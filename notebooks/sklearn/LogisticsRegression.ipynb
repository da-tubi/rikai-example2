{
 "cells": [
  {
   "cell_type": "code",
   "execution_count": 1,
   "id": "cc4a5ac6-9e23-498b-8796-dd7160095d34",
   "metadata": {},
   "outputs": [],
   "source": [
    "import numpy as np\n",
    "\n",
    "# prepare training data\n",
    "X = np.array([[1, 1], [1, 2], [2, 2], [2, 3]])\n",
    "y = np.dot(X, np.array([1, 2])) + 3\n",
    "\n",
    "# prepare evaluation data\n",
    "X_eval = np.array([[3, 3], [3, 4]])\n",
    "y_eval = np.dot(X_eval, np.array([1, 2])) + 3"
   ]
  },
  {
   "cell_type": "code",
   "execution_count": 2,
   "id": "530660c1-b8ad-4742-8fe6-a999e8b6b001",
   "metadata": {},
   "outputs": [
    {
     "name": "stdout",
     "output_type": "stream",
     "text": [
      ":: loading settings :: url = jar:file:/Users/da/.cache/pants/named_caches/pex_root/installed_wheels/2af3ba1a0b98d4936a6b141f1e78958d6eb400c51361fed2a7baa49e97f8a312/pyspark-3.2.0-py2.py3-none-any.whl/pyspark/jars/ivy-2.5.0.jar!/org/apache/ivy/core/settings/ivysettings.xml\n"
     ]
    },
    {
     "name": "stderr",
     "output_type": "stream",
     "text": [
      "Ivy Default Cache set to: /Users/da/.ivy2/cache\n",
      "The jars for the packages stored in: /Users/da/.ivy2/jars\n",
      "ai.eto#rikai_2.12 added as a dependency\n",
      ":: resolving dependencies :: org.apache.spark#spark-submit-parent-5662ba93-b692-4236-a1d6-f1b8b43aa602;1.0\n",
      "\tconfs: [default]\n",
      "\tfound ai.eto#rikai_2.12;0.1.14 in central\n",
      "\tfound org.xerial.snappy#snappy-java;1.1.8.4 in central\n",
      "\tfound com.typesafe.scala-logging#scala-logging_2.12;3.9.4 in central\n",
      "\tfound org.slf4j#slf4j-api;1.7.30 in spark-list\n",
      "\tfound org.mlflow#mlflow-client;1.21.0 in central\n",
      "\tfound org.apache.logging.log4j#log4j-core;2.17.1 in central\n",
      ":: resolution report :: resolve 220ms :: artifacts dl 7ms\n",
      "\t:: modules in use:\n",
      "\tai.eto#rikai_2.12;0.1.14 from central in [default]\n",
      "\tcom.typesafe.scala-logging#scala-logging_2.12;3.9.4 from central in [default]\n",
      "\torg.apache.logging.log4j#log4j-core;2.17.1 from central in [default]\n",
      "\torg.mlflow#mlflow-client;1.21.0 from central in [default]\n",
      "\torg.slf4j#slf4j-api;1.7.30 from spark-list in [default]\n",
      "\torg.xerial.snappy#snappy-java;1.1.8.4 from central in [default]\n",
      "\t:: evicted modules:\n",
      "\torg.slf4j#slf4j-api;1.7.25 by [org.slf4j#slf4j-api;1.7.30] in [default]\n",
      "\t---------------------------------------------------------------------\n",
      "\t|                  |            modules            ||   artifacts   |\n",
      "\t|       conf       | number| search|dwnlded|evicted|| number|dwnlded|\n",
      "\t---------------------------------------------------------------------\n",
      "\t|      default     |   7   |   0   |   0   |   1   ||   6   |   0   |\n",
      "\t---------------------------------------------------------------------\n",
      ":: retrieving :: org.apache.spark#spark-submit-parent-5662ba93-b692-4236-a1d6-f1b8b43aa602\n",
      "\tconfs: [default]\n",
      "\t0 artifacts copied, 6 already retrieved (0kB/5ms)\n",
      "22/11/07 17:45:37 WARN NativeCodeLoader: Unable to load native-hadoop library for your platform... using builtin-java classes where applicable\n",
      "Using Spark's default log4j profile: org/apache/spark/log4j-defaults.properties\n",
      "Setting default log level to \"WARN\".\n",
      "To adjust logging level use sc.setLogLevel(newLevel). For SparkR, use setLogLevel(newLevel).\n"
     ]
    }
   ],
   "source": [
    "from example import spark"
   ]
  },
  {
   "cell_type": "code",
   "execution_count": 10,
   "id": "90d90747-0be8-498a-bde2-2bdfe320c0df",
   "metadata": {},
   "outputs": [
    {
     "name": "stderr",
     "output_type": "stream",
     "text": [
      "2022/11/07 18:07:00 WARNING mlflow.utils.autologging_utils: You are using an unsupported version of sklearn. If you encounter errors during autologging, try upgrading / downgrading sklearn to a supported version, or try upgrading MLflow.\n",
      "2022/11/07 18:07:03 WARNING mlflow.utils.autologging_utils: MLflow autologging encountered a warning: \"/Users/da/.cache/pants/named_caches/pex_root/venvs/09dfa60218d5aeb3f927223d6ad4cf88a2802127/0f7e7a0c507ca73c38b8c784d7428bea86d7749b/lib/python3.8/site-packages/_distutils_hack/__init__.py:33: UserWarning: Setuptools is replacing distutils.\"\n",
      "2022/11/07 18:07:03 WARNING mlflow.utils.environment: Failed to resolve installed pip version. ``pip`` will be added to conda.yaml environment spec without a version specifier.\n",
      "/Users/da/.cache/pants/named_caches/pex_root/venvs/09dfa60218d5aeb3f927223d6ad4cf88a2802127/0f7e7a0c507ca73c38b8c784d7428bea86d7749b/lib/python3.8/site-packages/sklearn/metrics/_classification.py:1334: UndefinedMetricWarning: Precision is ill-defined and being set to 0.0 in labels with no predicted samples. Use `zero_division` parameter to control this behavior.\n",
      "  _warn_prf(average, modifier, msg_start, len(result))\n",
      "/Users/da/.cache/pants/named_caches/pex_root/venvs/09dfa60218d5aeb3f927223d6ad4cf88a2802127/0f7e7a0c507ca73c38b8c784d7428bea86d7749b/lib/python3.8/site-packages/sklearn/metrics/_classification.py:1334: UndefinedMetricWarning: Recall is ill-defined and being set to 0.0 in labels with no true samples. Use `zero_division` parameter to control this behavior.\n",
      "  _warn_prf(average, modifier, msg_start, len(result))\n",
      "2022/11/07 18:07:03 WARNING mlflow.sklearn.utils: log_loss failed. The metric val_log_loss will not be recorded. Metric error: y_true and y_pred contain different number of classes 2, 4. Please provide the true labels explicitly through the labels argument. Classes found in y_true: [12 14]\n",
      "2022/11/07 18:07:03 WARNING mlflow.sklearn.utils: roc_auc_score failed. The metric val_roc_auc_score will not be recorded. Metric error: Number of classes in y_true not equal to the number of columns in 'y_score'\n",
      "2022/11/07 18:07:03 WARNING mlflow.sklearn.utils: RocCurveDisplay.from_estimator failed. The artifact val_roc_curve will not be recorded. Artifact error: Expected 'estimator' to be a binary classifier, but got LogisticRegression fit on multiclass (4 classes) data\n",
      "2022/11/07 18:07:03 WARNING mlflow.sklearn.utils: PrecisionRecallDisplay.from_estimator failed. The artifact val_precision_recall_curve will not be recorded. Artifact error: Expected 'estimator' to be a binary classifier, but got LogisticRegression fit on multiclass (4 classes) data\n",
      "/Users/da/.cache/pants/named_caches/pex_root/venvs/09dfa60218d5aeb3f927223d6ad4cf88a2802127/0f7e7a0c507ca73c38b8c784d7428bea86d7749b/lib/python3.8/site-packages/_distutils_hack/__init__.py:33: UserWarning: Setuptools is replacing distutils.\n",
      "  warnings.warn(\"Setuptools is replacing distutils.\")\n",
      "2022/11/07 18:07:05 WARNING mlflow.utils.environment: Failed to resolve installed pip version. ``pip`` will be added to conda.yaml environment spec without a version specifier.\n",
      "Registered model 'da_sklearn_log_r' already exists. Creating a new version of this model...\n",
      "2022/11/07 18:07:05 INFO mlflow.tracking._model_registry.client: Waiting up to 300 seconds for model version to finish creation.                     Model name: da_sklearn_log_r, version 3\n",
      "Created version '3' of model 'da_sklearn_log_r'.\n",
      "/Users/da/.cache/pants/named_caches/pex_root/venvs/09dfa60218d5aeb3f927223d6ad4cf88a2802127/0f7e7a0c507ca73c38b8c784d7428bea86d7749b/lib/python3.8/site-packages/rikai/spark/sql/codegen/mlflow_logger.py:183: UserWarning: value of rikai.output.schema is None or empty and will not be populated to MLflow\n",
      "  warnings.warn(\n"
     ]
    }
   ],
   "source": [
    "import getpass\n",
    "import mlflow\n",
    "import rikai\n",
    "from sklearn.linear_model import LogisticRegression\n",
    "\n",
    "mlflow_tracking_uri = \"sqlite:///mlruns.db\"\n",
    "mlflow.set_tracking_uri(mlflow_tracking_uri)\n",
    "\n",
    "# enable autologging\n",
    "mlflow.sklearn.autolog()\n",
    "\n",
    "# train a model\n",
    "model = LogisticRegression()\n",
    "with mlflow.start_run() as run:\n",
    "    ####\n",
    "    # Part 1: Train the model and register it on MLflow\n",
    "    ####\n",
    "    model.fit(X, y)\n",
    "    metrics = mlflow.sklearn.eval_and_log_metrics(model, X_eval, y_eval, prefix=\"val_\")\n",
    "\n",
    "    registered_model_name = f\"{getpass.getuser()}_sklearn_log_r\"\n",
    "    rikai.mlflow.sklearn.log_model(\n",
    "        model,\n",
    "        \"model\",\n",
    "        registered_model_name=registered_model_name,\n",
    "        model_type=\"logistic_regression\",\n",
    "    )\n"
   ]
  },
  {
   "cell_type": "markdown",
   "id": "8182b62b-bd21-410c-98dd-1f59b51f0643",
   "metadata": {},
   "source": [
    "## Create the model using the registered MLflow uri"
   ]
  },
  {
   "cell_type": "code",
   "execution_count": 12,
   "id": "d667d2dc-7662-4fed-acd5-dab7b18a36d6",
   "metadata": {},
   "outputs": [
    {
     "name": "stdout",
     "output_type": "stream",
     "text": [
      "+----------------+------+--------------------------+-------+\n",
      "|name            |flavor|uri                       |options|\n",
      "+----------------+------+--------------------------+-------+\n",
      "|mlflow_sklearn_m|      |mlflow:///da_sklearn_log_r|       |\n",
      "+----------------+------+--------------------------+-------+\n",
      "\n"
     ]
    }
   ],
   "source": [
    "from rikai.spark.sql.codegen.mlflow_logger import CONF_MLFLOW_TRACKING_URI\n",
    "\n",
    "spark.conf.set(\"spark.sql.execution.arrow.pyspark.enabled\", \"false\")\n",
    "spark.conf.set(CONF_MLFLOW_TRACKING_URI, mlflow_tracking_uri)\n",
    "spark.sql(f\"\"\"\n",
    "CREATE OR REPLACE MODEL mlflow_sklearn_m USING 'mlflow:///{registered_model_name}';\n",
    "\"\"\"\n",
    ")\n",
    "\n",
    "spark.sql(\"show models\").show(1, vertical=False, truncate=False)"
   ]
  },
  {
   "cell_type": "markdown",
   "id": "fca1afa3-3d8f-4465-b6d7-de04533f9210",
   "metadata": {},
   "source": [
    "## Predict using the registered Rikai model"
   ]
  },
  {
   "cell_type": "code",
   "execution_count": 13,
   "id": "fd3353fa-af52-4ebb-b10b-dea378b82c46",
   "metadata": {},
   "outputs": [
    {
     "name": "stdout",
     "output_type": "stream",
     "text": [
      "root\n",
      " |-- mlflow_sklearn_m: integer (nullable = true)\n",
      "\n"
     ]
    },
    {
     "name": "stderr",
     "output_type": "stream",
     "text": [
      "                                                                                \r"
     ]
    },
    {
     "data": {
      "text/html": [
       "<div>\n",
       "<style scoped>\n",
       "    .dataframe tbody tr th:only-of-type {\n",
       "        vertical-align: middle;\n",
       "    }\n",
       "\n",
       "    .dataframe tbody tr th {\n",
       "        vertical-align: top;\n",
       "    }\n",
       "\n",
       "    .dataframe thead th {\n",
       "        text-align: right;\n",
       "    }\n",
       "</style>\n",
       "<table border=\"1\" class=\"dataframe\">\n",
       "  <thead>\n",
       "    <tr style=\"text-align: right;\">\n",
       "      <th></th>\n",
       "      <th>mlflow_sklearn_m</th>\n",
       "    </tr>\n",
       "  </thead>\n",
       "  <tbody>\n",
       "    <tr>\n",
       "      <th>0</th>\n",
       "      <td>8</td>\n",
       "    </tr>\n",
       "  </tbody>\n",
       "</table>\n",
       "</div>"
      ],
      "text/plain": [
       "   mlflow_sklearn_m\n",
       "0                 8"
      ]
     },
     "execution_count": 13,
     "metadata": {},
     "output_type": "execute_result"
    }
   ],
   "source": [
    "result = spark.sql(\n",
    "    f\"\"\"\n",
    "select ML_PREDICT(mlflow_sklearn_m, array(1, 2))\n",
    "\"\"\"\n",
    ")\n",
    "\n",
    "result.printSchema()\n",
    "result.toPandas()"
   ]
  },
  {
   "cell_type": "code",
   "execution_count": null,
   "id": "dd30944a-7052-4b90-a489-8647c71cc3f6",
   "metadata": {},
   "outputs": [],
   "source": []
  }
 ],
 "metadata": {
  "kernelspec": {
   "display_name": "Python 3 (ipykernel)",
   "language": "python",
   "name": "python3"
  },
  "language_info": {
   "codemirror_mode": {
    "name": "ipython",
    "version": 3
   },
   "file_extension": ".py",
   "mimetype": "text/x-python",
   "name": "python",
   "nbconvert_exporter": "python",
   "pygments_lexer": "ipython3",
   "version": "3.8.14"
  }
 },
 "nbformat": 4,
 "nbformat_minor": 5
}
