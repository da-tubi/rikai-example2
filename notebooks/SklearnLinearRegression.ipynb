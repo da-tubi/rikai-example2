{
 "cells": [
  {
   "cell_type": "markdown",
   "id": "bf43a24d-3283-4a3d-a51b-d576c13e482f",
   "metadata": {},
   "source": [
    "## Step 1: Prepare the Training and Evaluation Dataset"
   ]
  },
  {
   "cell_type": "code",
   "execution_count": 1,
   "id": "ec400d32-b024-40fb-bd77-42f4f41afdb3",
   "metadata": {},
   "outputs": [],
   "source": [
    "import numpy as np\n",
    "\n",
    "# prepare training data\n",
    "X = np.array([[1, 1], [1, 2], [2, 2], [2, 3]])\n",
    "y = np.dot(X, np.array([1, 2])) + 3\n",
    "\n",
    "# prepare evaluation data\n",
    "X_eval = np.array([[3, 3], [3, 4]])\n",
    "y_eval = np.dot(X_eval, np.array([1, 2])) + 3"
   ]
  },
  {
   "cell_type": "markdown",
   "id": "751e421d-d982-4ba4-80c6-740652dc5fd7",
   "metadata": {},
   "source": [
    "## Step 2: Launching the Spark Session with Rikai Extension"
   ]
  },
  {
   "cell_type": "code",
   "execution_count": 2,
   "id": "9ffd5b9d-0203-4add-a618-fecd56a64112",
   "metadata": {},
   "outputs": [
    {
     "name": "stdout",
     "output_type": "stream",
     "text": [
      ":: loading settings :: url = jar:file:/Users/da/.cache/pants/named_caches/pex_root/installed_wheels/2af3ba1a0b98d4936a6b141f1e78958d6eb400c51361fed2a7baa49e97f8a312/pyspark-3.2.0-py2.py3-none-any.whl/pyspark/jars/ivy-2.5.0.jar!/org/apache/ivy/core/settings/ivysettings.xml\n"
     ]
    },
    {
     "name": "stderr",
     "output_type": "stream",
     "text": [
      "Ivy Default Cache set to: /Users/da/.ivy2/cache\n",
      "The jars for the packages stored in: /Users/da/.ivy2/jars\n",
      "ai.eto#rikai_2.12 added as a dependency\n",
      ":: resolving dependencies :: org.apache.spark#spark-submit-parent-88a1fd33-5207-4c44-b6bb-514e84780706;1.0\n",
      "\tconfs: [default]\n",
      "\tfound ai.eto#rikai_2.12;0.1.14 in central\n",
      "\tfound org.xerial.snappy#snappy-java;1.1.8.4 in central\n",
      "\tfound com.typesafe.scala-logging#scala-logging_2.12;3.9.4 in central\n",
      "\tfound org.slf4j#slf4j-api;1.7.30 in spark-list\n",
      "\tfound org.mlflow#mlflow-client;1.21.0 in central\n",
      "\tfound org.apache.logging.log4j#log4j-core;2.17.1 in central\n",
      ":: resolution report :: resolve 225ms :: artifacts dl 8ms\n",
      "\t:: modules in use:\n",
      "\tai.eto#rikai_2.12;0.1.14 from central in [default]\n",
      "\tcom.typesafe.scala-logging#scala-logging_2.12;3.9.4 from central in [default]\n",
      "\torg.apache.logging.log4j#log4j-core;2.17.1 from central in [default]\n",
      "\torg.mlflow#mlflow-client;1.21.0 from central in [default]\n",
      "\torg.slf4j#slf4j-api;1.7.30 from spark-list in [default]\n",
      "\torg.xerial.snappy#snappy-java;1.1.8.4 from central in [default]\n",
      "\t:: evicted modules:\n",
      "\torg.slf4j#slf4j-api;1.7.25 by [org.slf4j#slf4j-api;1.7.30] in [default]\n",
      "\t---------------------------------------------------------------------\n",
      "\t|                  |            modules            ||   artifacts   |\n",
      "\t|       conf       | number| search|dwnlded|evicted|| number|dwnlded|\n",
      "\t---------------------------------------------------------------------\n",
      "\t|      default     |   7   |   0   |   0   |   1   ||   6   |   0   |\n",
      "\t---------------------------------------------------------------------\n",
      ":: retrieving :: org.apache.spark#spark-submit-parent-88a1fd33-5207-4c44-b6bb-514e84780706\n",
      "\tconfs: [default]\n",
      "\t0 artifacts copied, 6 already retrieved (0kB/6ms)\n",
      "22/11/07 16:01:07 WARN NativeCodeLoader: Unable to load native-hadoop library for your platform... using builtin-java classes where applicable\n",
      "Using Spark's default log4j profile: org/apache/spark/log4j-defaults.properties\n",
      "Setting default log level to \"WARN\".\n",
      "To adjust logging level use sc.setLogLevel(newLevel). For SparkR, use setLogLevel(newLevel).\n"
     ]
    }
   ],
   "source": [
    "from example import spark"
   ]
  },
  {
   "cell_type": "markdown",
   "id": "a943ea91-37e5-4d34-a26c-9d07b1b9c2ea",
   "metadata": {},
   "source": [
    "## Step 3: Training and Logging using MLflow"
   ]
  },
  {
   "cell_type": "code",
   "execution_count": 3,
   "id": "a1fe7e34-df05-4986-988d-64a180603ac4",
   "metadata": {},
   "outputs": [
    {
     "name": "stderr",
     "output_type": "stream",
     "text": [
      "2022/11/07 16:01:11 WARNING mlflow.utils.autologging_utils: You are using an unsupported version of sklearn. If you encounter errors during autologging, try upgrading / downgrading sklearn to a supported version, or try upgrading MLflow.\n",
      "2022/11/07 16:01:14 WARNING mlflow.utils.autologging_utils: MLflow autologging encountered a warning: \"/Users/da/.cache/pants/named_caches/pex_root/venvs/09dfa60218d5aeb3f927223d6ad4cf88a2802127/5d75a06a4861b9337aaf1d969ebd7dd5cd8fedc6/lib/python3.8/site-packages/_distutils_hack/__init__.py:33: UserWarning: Setuptools is replacing distutils.\"\n",
      "2022/11/07 16:01:14 WARNING mlflow.utils.environment: Failed to resolve installed pip version. ``pip`` will be added to conda.yaml environment spec without a version specifier.\n",
      "/Users/da/.cache/pants/named_caches/pex_root/venvs/09dfa60218d5aeb3f927223d6ad4cf88a2802127/5d75a06a4861b9337aaf1d969ebd7dd5cd8fedc6/lib/python3.8/site-packages/_distutils_hack/__init__.py:33: UserWarning: Setuptools is replacing distutils.\n",
      "  warnings.warn(\"Setuptools is replacing distutils.\")\n",
      "2022/11/07 16:01:16 WARNING mlflow.utils.environment: Failed to resolve installed pip version. ``pip`` will be added to conda.yaml environment spec without a version specifier.\n",
      "Registered model 'da_sklearn_lr' already exists. Creating a new version of this model...\n",
      "2022/11/07 16:01:16 INFO mlflow.tracking._model_registry.client: Waiting up to 300 seconds for model version to finish creation.                     Model name: da_sklearn_lr, version 5\n",
      "Created version '5' of model 'da_sklearn_lr'.\n"
     ]
    }
   ],
   "source": [
    "import getpass\n",
    "\n",
    "import mlflow\n",
    "import rikai\n",
    "from sklearn.linear_model import LinearRegression\n",
    "\n",
    "\n",
    "mlflow_tracking_uri = \"sqlite:///mlruns.db\"\n",
    "mlflow.set_tracking_uri(mlflow_tracking_uri)\n",
    "\n",
    "# enable autologging\n",
    "mlflow.sklearn.autolog()\n",
    "\n",
    "# train a model\n",
    "model = LinearRegression()\n",
    "with mlflow.start_run() as run:\n",
    "    ####\n",
    "    # Part 1: Train the model and register it on MLflow\n",
    "    ####\n",
    "    model.fit(X, y)\n",
    "    metrics = mlflow.sklearn.eval_and_log_metrics(model, X_eval, y_eval, prefix=\"val_\")\n",
    "\n",
    "    schema = \"float\"\n",
    "    registered_model_name = f\"{getpass.getuser()}_sklearn_lr\"\n",
    "    rikai.mlflow.sklearn.log_model(\n",
    "        model,\n",
    "        \"model\",\n",
    "        schema,\n",
    "        registered_model_name=registered_model_name,\n",
    "        model_type=\"linear_regression\",\n",
    "    )\n"
   ]
  },
  {
   "cell_type": "markdown",
   "id": "a127f6a2-aaed-461b-8ebd-4758d4a8ef2d",
   "metadata": {},
   "source": [
    "## Step 4: Create the model using the registered MLflow uri"
   ]
  },
  {
   "cell_type": "code",
   "execution_count": 4,
   "id": "c3e38927-df44-4e87-bd60-b6b8b16935f8",
   "metadata": {},
   "outputs": [
    {
     "name": "stdout",
     "output_type": "stream",
     "text": [
      "+----------------+------+-----------------------+-------+\n",
      "|name            |flavor|uri                    |options|\n",
      "+----------------+------+-----------------------+-------+\n",
      "|mlflow_sklearn_m|      |mlflow:///da_sklearn_lr|       |\n",
      "+----------------+------+-----------------------+-------+\n",
      "\n"
     ]
    }
   ],
   "source": [
    "spark.conf.set(\"spark.sql.execution.arrow.pyspark.enabled\", \"false\")\n",
    "spark.conf.set(\"spark.rikai.sql.ml.registry.mlflow.tracking_uri\", mlflow_tracking_uri)\n",
    "spark.sql(\n",
    "    f\"\"\"\n",
    "CREATE OR REPLACE MODEL mlflow_sklearn_m USING 'mlflow:///{registered_model_name}';\n",
    "\"\"\"\n",
    ")\n",
    "\n",
    "spark.sql(\"show models\").show(1, vertical=False, truncate=False)\n"
   ]
  },
  {
   "cell_type": "markdown",
   "id": "b2dc0a7e-bae0-413b-a59a-64420254a68b",
   "metadata": {},
   "source": [
    "## Step 5: predict using the registered Rikai model"
   ]
  },
  {
   "cell_type": "code",
   "execution_count": 5,
   "id": "d975f9ea-4006-4526-b596-6b0dc0d3df2f",
   "metadata": {},
   "outputs": [
    {
     "name": "stdout",
     "output_type": "stream",
     "text": [
      "root\n",
      " |-- mlflow_sklearn_m: float (nullable = true)\n",
      "\n"
     ]
    }
   ],
   "source": [
    "df = spark.range(100).selectExpr(\"id as x0\", \"id+1 as x1\")\n",
    "df.createOrReplaceTempView(\"tbl_X\")\n",
    "\n",
    "result = spark.sql(f\"\"\"\n",
    "select ML_PREDICT(mlflow_sklearn_m, array(x0, x1)) from tbl_X\n",
    "\"\"\"\n",
    ")\n",
    "\n",
    "result.printSchema()"
   ]
  },
  {
   "cell_type": "code",
   "execution_count": 6,
   "id": "102ae105-951c-4df4-96ee-5980945942df",
   "metadata": {},
   "outputs": [
    {
     "name": "stderr",
     "output_type": "stream",
     "text": [
      "                                                                                \r"
     ]
    },
    {
     "data": {
      "text/html": [
       "<div>\n",
       "<style scoped>\n",
       "    .dataframe tbody tr th:only-of-type {\n",
       "        vertical-align: middle;\n",
       "    }\n",
       "\n",
       "    .dataframe tbody tr th {\n",
       "        vertical-align: top;\n",
       "    }\n",
       "\n",
       "    .dataframe thead th {\n",
       "        text-align: right;\n",
       "    }\n",
       "</style>\n",
       "<table border=\"1\" class=\"dataframe\">\n",
       "  <thead>\n",
       "    <tr style=\"text-align: right;\">\n",
       "      <th></th>\n",
       "      <th>mlflow_sklearn_m</th>\n",
       "    </tr>\n",
       "  </thead>\n",
       "  <tbody>\n",
       "    <tr>\n",
       "      <th>0</th>\n",
       "      <td>5.0</td>\n",
       "    </tr>\n",
       "    <tr>\n",
       "      <th>1</th>\n",
       "      <td>8.0</td>\n",
       "    </tr>\n",
       "    <tr>\n",
       "      <th>2</th>\n",
       "      <td>11.0</td>\n",
       "    </tr>\n",
       "    <tr>\n",
       "      <th>3</th>\n",
       "      <td>14.0</td>\n",
       "    </tr>\n",
       "    <tr>\n",
       "      <th>4</th>\n",
       "      <td>17.0</td>\n",
       "    </tr>\n",
       "    <tr>\n",
       "      <th>...</th>\n",
       "      <td>...</td>\n",
       "    </tr>\n",
       "    <tr>\n",
       "      <th>95</th>\n",
       "      <td>290.0</td>\n",
       "    </tr>\n",
       "    <tr>\n",
       "      <th>96</th>\n",
       "      <td>293.0</td>\n",
       "    </tr>\n",
       "    <tr>\n",
       "      <th>97</th>\n",
       "      <td>296.0</td>\n",
       "    </tr>\n",
       "    <tr>\n",
       "      <th>98</th>\n",
       "      <td>299.0</td>\n",
       "    </tr>\n",
       "    <tr>\n",
       "      <th>99</th>\n",
       "      <td>302.0</td>\n",
       "    </tr>\n",
       "  </tbody>\n",
       "</table>\n",
       "<p>100 rows × 1 columns</p>\n",
       "</div>"
      ],
      "text/plain": [
       "    mlflow_sklearn_m\n",
       "0                5.0\n",
       "1                8.0\n",
       "2               11.0\n",
       "3               14.0\n",
       "4               17.0\n",
       "..               ...\n",
       "95             290.0\n",
       "96             293.0\n",
       "97             296.0\n",
       "98             299.0\n",
       "99             302.0\n",
       "\n",
       "[100 rows x 1 columns]"
      ]
     },
     "execution_count": 6,
     "metadata": {},
     "output_type": "execute_result"
    }
   ],
   "source": [
    "result.toPandas()"
   ]
  },
  {
   "cell_type": "code",
   "execution_count": null,
   "id": "d7eadca0-8320-41ea-8275-72c876e5ee2e",
   "metadata": {},
   "outputs": [],
   "source": []
  }
 ],
 "metadata": {
  "kernelspec": {
   "display_name": "Python 3 (ipykernel)",
   "language": "python",
   "name": "python3"
  },
  "language_info": {
   "codemirror_mode": {
    "name": "ipython",
    "version": 3
   },
   "file_extension": ".py",
   "mimetype": "text/x-python",
   "name": "python",
   "nbconvert_exporter": "python",
   "pygments_lexer": "ipython3",
   "version": "3.8.14"
  }
 },
 "nbformat": 4,
 "nbformat_minor": 5
}
